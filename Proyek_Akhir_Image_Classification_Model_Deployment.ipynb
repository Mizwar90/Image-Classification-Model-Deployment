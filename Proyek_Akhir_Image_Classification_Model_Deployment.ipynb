{
  "nbformat": 4,
  "nbformat_minor": 0,
  "metadata": {
    "colab": {
      "provenance": []
    },
    "kernelspec": {
      "name": "python3",
      "display_name": "Python 3"
    },
    "language_info": {
      "name": "python"
    },
    "accelerator": "GPU"
  },
  "cells": [
    {
      "cell_type": "markdown",
      "source": [
        "# **Rice Image Classification in TF**\n",
        "\n",
        "### **Nama: Mizwar**"
      ],
      "metadata": {
        "id": "Ks1a9ERPRnaE"
      }
    },
    {
      "cell_type": "code",
      "execution_count": null,
      "metadata": {
        "colab": {
          "base_uri": "https://localhost:8080/"
        },
        "id": "nuPBX1HOrH5X",
        "outputId": "e4d7a761-9923-4c34-9981-76d800e1aeaa"
      },
      "outputs": [
        {
          "output_type": "stream",
          "name": "stdout",
          "text": [
            "--2022-10-02 09:10:36--  https://www.muratkoklu.com/datasets/vtdhnd09.php\n",
            "Resolving www.muratkoklu.com (www.muratkoklu.com)... 185.179.25.150\n",
            "Connecting to www.muratkoklu.com (www.muratkoklu.com)|185.179.25.150|:443... connected.\n",
            "HTTP request sent, awaiting response... 302 Found\n",
            "Location: Rice_Image_Dataset.zip [following]\n",
            "--2022-10-02 09:10:38--  https://www.muratkoklu.com/datasets/Rice_Image_Dataset.zip\n",
            "Reusing existing connection to www.muratkoklu.com:443.\n",
            "HTTP request sent, awaiting response... 200 OK\n",
            "Length: 229550800 (219M) [application/zip]\n",
            "Saving to: ‘/tmp/Rice_Image_Dataset.zip’\n",
            "\n",
            "/tmp/Rice_Image_Dat 100%[===================>] 218.92M  12.8MB/s    in 19s     \n",
            "\n",
            "2022-10-02 09:10:57 (11.8 MB/s) - ‘/tmp/Rice_Image_Dataset.zip’ saved [229550800/229550800]\n",
            "\n"
          ]
        }
      ],
      "source": [
        "!wget --no-check-certificate \\\n",
        "    https://www.muratkoklu.com/datasets/vtdhnd09.php \\\n",
        "    -O /tmp/Rice_Image_Dataset.zip"
      ]
    },
    {
      "cell_type": "code",
      "source": [
        "# melakukan ekstraksi pada file zip\n",
        "import zipfile,os,shutil\n",
        "local_zip = '/tmp/Rice_Image_Dataset.zip'\n",
        "zip_ref = zipfile.ZipFile(local_zip, 'r')\n",
        "zip_ref.extractall('/tmp')\n",
        "zip_ref.close()"
      ],
      "metadata": {
        "id": "jsw6-sxBr9K4"
      },
      "execution_count": null,
      "outputs": []
    },
    {
      "cell_type": "code",
      "source": [
        "base_dir = '/tmp/Rice_Image_Dataset'\n",
        "ar_dir = os.path.join(base_dir,'Arborio')\n",
        "bas_dir = os.path.join(base_dir, 'Basmati')\n",
        "ip_dir = os.path.join(base_dir, 'Ipsala')\n",
        "ja_dir = os.path.join(base_dir, 'Jasmine')\n",
        "ka_dir = os.path.join(base_dir, 'Karacadag')"
      ],
      "metadata": {
        "id": "y4I20sKntW4h"
      },
      "execution_count": null,
      "outputs": []
    },
    {
      "cell_type": "code",
      "source": [
        "total_arborio = len(os.listdir(ar_dir))\n",
        "total_basmati = len(os.listdir(bas_dir))\n",
        "total_ipsala = len(os.listdir(ip_dir))\n",
        "total_jasmine = len(os.listdir(ja_dir))\n",
        "total_karacadag = len(os.listdir(ka_dir))\n",
        "\n",
        "# Mencetak jumlah data \n",
        "print(\"Total Data Arborio Image     : \",total_arborio)\n",
        "print(\"Total Data Basmati Image     : \",total_basmati)\n",
        "print(\"Total Data Ipsala Image      : \",total_ipsala)\n",
        "print(\"Total Data Jasmine Image     : \",total_jasmine)\n",
        "print(\"Total Data Karacadag Image   : \",total_karacadag)"
      ],
      "metadata": {
        "colab": {
          "base_uri": "https://localhost:8080/"
        },
        "id": "lcQT3lVdumTa",
        "outputId": "e7447c7f-80a7-4e90-ed76-811d4226536a"
      },
      "execution_count": null,
      "outputs": [
        {
          "output_type": "stream",
          "name": "stdout",
          "text": [
            "Total Data Arborio Image     :  15000\n",
            "Total Data Basmati Image     :  15000\n",
            "Total Data Ipsala Image      :  15000\n",
            "Total Data Jasmine Image     :  15000\n",
            "Total Data Karacadag Image   :  15000\n"
          ]
        }
      ]
    },
    {
      "cell_type": "code",
      "source": [
        "import sklearn\n",
        "from sklearn import datasets\n",
        "from sklearn.model_selection import train_test_split"
      ],
      "metadata": {
        "id": "dnT8_axjwEZU"
      },
      "execution_count": null,
      "outputs": []
    },
    {
      "cell_type": "code",
      "source": [
        "# Pembuatan Train dan Validation  data generator \n",
        "# Untuk augmentasi gambar\n",
        "from tensorflow.keras.preprocessing.image import ImageDataGenerator\n",
        "#Ukuran validation 20% dari dataset\n",
        "val_size = 0.2\n",
        "\n",
        "Train_datagen = ImageDataGenerator(\n",
        "    rotation_range = 30,\n",
        "    brightness_range = [0.2,1.0],\n",
        "    shear_range = 0.2,\n",
        "    zoom_range = 0.2,\n",
        "    horizontal_flip = True,\n",
        "    fill_mode = \"nearest\",\n",
        "    rescale = 1./255,\n",
        "    validation_split = val_size\n",
        ")\n",
        "\n",
        "Validation_datagen = ImageDataGenerator(\n",
        "    rotation_range = 30,\n",
        "    brightness_range = [0.2,1.0],\n",
        "    shear_range = 0.2,\n",
        "    zoom_range = 0.2,\n",
        "    horizontal_flip = True,\n",
        "    fill_mode = \"nearest\",\n",
        "    rescale = 1./255,\n",
        "    validation_split = val_size\n",
        ")"
      ],
      "metadata": {
        "id": "foAXZySxwK5e"
      },
      "execution_count": null,
      "outputs": []
    },
    {
      "cell_type": "code",
      "source": [
        "# Train dan Validation generator  dengan mode categorical\n",
        "Train_generator = Train_datagen.flow_from_directory(\n",
        "    base_dir,\n",
        "    target_size = (150,150),\n",
        "    color_mode = \"rgb\",\n",
        "    class_mode = \"categorical\",\n",
        "    batch_size = 128,\n",
        "    shuffle = True,\n",
        "    subset = \"training\"\n",
        ")\n",
        "\n",
        "Validation_generator = Validation_datagen.flow_from_directory(\n",
        "    base_dir,\n",
        "    target_size = (150,150),\n",
        "    color_mode = \"rgb\",\n",
        "    class_mode = \"categorical\",\n",
        "    batch_size = 128,\n",
        "    shuffle = False,\n",
        "    subset = \"validation\"\n",
        ")"
      ],
      "metadata": {
        "colab": {
          "base_uri": "https://localhost:8080/"
        },
        "id": "jFr7RumCwXty",
        "outputId": "4d7684fd-36fe-463e-cac1-d2345dd2aec8"
      },
      "execution_count": null,
      "outputs": [
        {
          "output_type": "stream",
          "name": "stdout",
          "text": [
            "Found 60000 images belonging to 5 classes.\n",
            "Found 15000 images belonging to 5 classes.\n"
          ]
        }
      ]
    },
    {
      "cell_type": "code",
      "source": [
        "import tensorflow as tf\n",
        "from tensorflow.keras.preprocessing.image import ImageDataGenerator\n",
        "from tensorflow.keras.models import Sequential\n",
        "from tensorflow.keras.layers import Conv2D, MaxPooling2D, Activation, Dense, Flatten\n",
        "from tensorflow.keras.layers import Dropout\n",
        "from tensorflow.keras.optimizers import Adam"
      ],
      "metadata": {
        "id": "Xm1qgC9lwwTy"
      },
      "execution_count": null,
      "outputs": []
    },
    {
      "cell_type": "code",
      "source": [
        "# Pembuatan Model dengan tipe Sequential\n",
        "\n",
        "model_vanilla = tf.keras.Sequential([\n",
        "    tf.keras.layers.Conv2D(32,(3,3), activation='relu', input_shape=(150,150,3)),\n",
        "    tf.keras.layers.BatchNormalization(),\n",
        "    tf.keras.layers.Conv2D(32,(3,3),activation='relu',padding='same'),\n",
        "    tf.keras.layers.BatchNormalization(axis = 3),\n",
        "    tf.keras.layers.MaxPooling2D(pool_size=(2,2),padding='same'),\n",
        "    tf.keras.layers.Dropout(0.3),\n",
        "    \n",
        "    tf.keras.layers.Conv2D(64,(3,3),activation='relu',padding='same'),\n",
        "    tf.keras.layers.BatchNormalization(),\n",
        "    tf.keras.layers.Conv2D(64,(3,3),activation='relu',padding='same'),\n",
        "    tf.keras.layers.BatchNormalization(axis = 3),\n",
        "    tf.keras.layers.MaxPooling2D(pool_size=(2,2),padding='same'),\n",
        "    tf.keras.layers.Dropout(0.3),\n",
        "\n",
        "     tf.keras.layers.Conv2D(128,(3,3),activation='relu',padding='same'),\n",
        "    tf.keras.layers.BatchNormalization(),\n",
        "    tf.keras.layers.Conv2D(128,(3,3),activation='relu',padding='same'),\n",
        "    tf.keras.layers.BatchNormalization(axis = 3),\n",
        "    tf.keras.layers.MaxPooling2D(pool_size=(2,2),padding='same'),\n",
        "    tf.keras.layers.Dropout(0.5),\n",
        "    \n",
        "    tf.keras.layers.Flatten(),\n",
        "    tf.keras.layers.Dense(512, activation='relu'),\n",
        "    tf.keras.layers.BatchNormalization(),\n",
        "    tf.keras.layers.Dropout(0.5),\n",
        "    tf.keras.layers.Dense(128, activation='relu'),\n",
        "    tf.keras.layers.Dropout(0.25),\n",
        "    tf.keras.layers.Dense(5, activation='softmax')\n",
        "])"
      ],
      "metadata": {
        "id": "LE8d87M_w6b0"
      },
      "execution_count": null,
      "outputs": []
    },
    {
      "cell_type": "code",
      "source": [
        "model_vanilla.compile(optimizer='adam', loss='categorical_crossentropy', metrics=['accuracy'])\n",
        "model_vanilla.summary()"
      ],
      "metadata": {
        "colab": {
          "base_uri": "https://localhost:8080/"
        },
        "id": "M_xNPT8qx1aS",
        "outputId": "f5fbff51-c29d-49e8-c2fb-768020d98213"
      },
      "execution_count": null,
      "outputs": [
        {
          "output_type": "stream",
          "name": "stdout",
          "text": [
            "Model: \"sequential_3\"\n",
            "_________________________________________________________________\n",
            " Layer (type)                Output Shape              Param #   \n",
            "=================================================================\n",
            " conv2d_15 (Conv2D)          (None, 148, 148, 32)      896       \n",
            "                                                                 \n",
            " batch_normalization_14 (Bat  (None, 148, 148, 32)     128       \n",
            " chNormalization)                                                \n",
            "                                                                 \n",
            " conv2d_16 (Conv2D)          (None, 148, 148, 32)      9248      \n",
            "                                                                 \n",
            " batch_normalization_15 (Bat  (None, 148, 148, 32)     128       \n",
            " chNormalization)                                                \n",
            "                                                                 \n",
            " max_pooling2d_9 (MaxPooling  (None, 74, 74, 32)       0         \n",
            " 2D)                                                             \n",
            "                                                                 \n",
            " dropout_11 (Dropout)        (None, 74, 74, 32)        0         \n",
            "                                                                 \n",
            " conv2d_17 (Conv2D)          (None, 74, 74, 64)        18496     \n",
            "                                                                 \n",
            " batch_normalization_16 (Bat  (None, 74, 74, 64)       256       \n",
            " chNormalization)                                                \n",
            "                                                                 \n",
            " conv2d_18 (Conv2D)          (None, 74, 74, 64)        36928     \n",
            "                                                                 \n",
            " batch_normalization_17 (Bat  (None, 74, 74, 64)       256       \n",
            " chNormalization)                                                \n",
            "                                                                 \n",
            " max_pooling2d_10 (MaxPoolin  (None, 37, 37, 64)       0         \n",
            " g2D)                                                            \n",
            "                                                                 \n",
            " dropout_12 (Dropout)        (None, 37, 37, 64)        0         \n",
            "                                                                 \n",
            " conv2d_19 (Conv2D)          (None, 37, 37, 128)       73856     \n",
            "                                                                 \n",
            " batch_normalization_18 (Bat  (None, 37, 37, 128)      512       \n",
            " chNormalization)                                                \n",
            "                                                                 \n",
            " conv2d_20 (Conv2D)          (None, 37, 37, 128)       147584    \n",
            "                                                                 \n",
            " batch_normalization_19 (Bat  (None, 37, 37, 128)      512       \n",
            " chNormalization)                                                \n",
            "                                                                 \n",
            " max_pooling2d_11 (MaxPoolin  (None, 19, 19, 128)      0         \n",
            " g2D)                                                            \n",
            "                                                                 \n",
            " dropout_13 (Dropout)        (None, 19, 19, 128)       0         \n",
            "                                                                 \n",
            " flatten_3 (Flatten)         (None, 46208)             0         \n",
            "                                                                 \n",
            " dense_8 (Dense)             (None, 512)               23659008  \n",
            "                                                                 \n",
            " batch_normalization_20 (Bat  (None, 512)              2048      \n",
            " chNormalization)                                                \n",
            "                                                                 \n",
            " dropout_14 (Dropout)        (None, 512)               0         \n",
            "                                                                 \n",
            " dense_9 (Dense)             (None, 128)               65664     \n",
            "                                                                 \n",
            " dropout_15 (Dropout)        (None, 128)               0         \n",
            "                                                                 \n",
            " dense_10 (Dense)            (None, 5)                 645       \n",
            "                                                                 \n",
            "=================================================================\n",
            "Total params: 24,016,165\n",
            "Trainable params: 24,014,245\n",
            "Non-trainable params: 1,920\n",
            "_________________________________________________________________\n"
          ]
        }
      ]
    },
    {
      "cell_type": "markdown",
      "source": [
        "**Callbacks**"
      ],
      "metadata": {
        "id": "H7IvNRxKAgmA"
      }
    },
    {
      "cell_type": "code",
      "source": [
        "from keras.callbacks import ModelCheckpoint, EarlyStopping, ReduceLROnPlateau"
      ],
      "metadata": {
        "id": "cAlukKf4A9sG"
      },
      "execution_count": null,
      "outputs": []
    },
    {
      "cell_type": "code",
      "source": [
        "models_dir = \"saved_models\"\n",
        "if not os.path.exists(models_dir):\n",
        "    os.makedirs(models_dir)\n",
        "\n",
        "checkpointer = ModelCheckpoint(filepath='saved_models/model_vanilla.hdf5', \n",
        "                               monitor='val_accuracy', mode='max',\n",
        "                               verbose=1, save_best_only=True)\n",
        "early_stopping = EarlyStopping(monitor='val_loss', mode='min', verbose=1, patience=3)\n",
        "reduce_lr = ReduceLROnPlateau(monitor='val_loss', factor=0.2,patience=2, min_lr=0.001)\n",
        "callbacks=[early_stopping, reduce_lr, checkpointer]"
      ],
      "metadata": {
        "id": "bBCoHFzH6CTy"
      },
      "execution_count": null,
      "outputs": []
    },
    {
      "cell_type": "code",
      "source": [
        "history1 = model_vanilla.fit(Train_generator, epochs = 40, validation_data = Validation_generator, callbacks=callbacks)"
      ],
      "metadata": {
        "colab": {
          "base_uri": "https://localhost:8080/"
        },
        "id": "HtWJmA5S6Gx_",
        "outputId": "c02c78d9-c7fb-482f-a81a-6f7359bd2c95"
      },
      "execution_count": null,
      "outputs": [
        {
          "output_type": "stream",
          "name": "stdout",
          "text": [
            "Epoch 1/40\n",
            "469/469 [==============================] - ETA: 0s - loss: 0.2068 - accuracy: 0.9254\n",
            "Epoch 1: val_accuracy improved from -inf to 0.20847, saving model to saved_models/model_vanilla.hdf5\n",
            "469/469 [==============================] - 505s 1s/step - loss: 0.2068 - accuracy: 0.9254 - val_loss: 15.1761 - val_accuracy: 0.2085 - lr: 0.0010\n",
            "Epoch 2/40\n",
            "469/469 [==============================] - ETA: 0s - loss: 0.0666 - accuracy: 0.9782\n",
            "Epoch 2: val_accuracy improved from 0.20847 to 0.67593, saving model to saved_models/model_vanilla.hdf5\n",
            "469/469 [==============================] - 495s 1s/step - loss: 0.0666 - accuracy: 0.9782 - val_loss: 1.5142 - val_accuracy: 0.6759 - lr: 0.0010\n",
            "Epoch 3/40\n",
            "469/469 [==============================] - ETA: 0s - loss: 0.0543 - accuracy: 0.9820\n",
            "Epoch 3: val_accuracy improved from 0.67593 to 0.91220, saving model to saved_models/model_vanilla.hdf5\n",
            "469/469 [==============================] - 491s 1s/step - loss: 0.0543 - accuracy: 0.9820 - val_loss: 0.3451 - val_accuracy: 0.9122 - lr: 0.0010\n",
            "Epoch 4/40\n",
            "469/469 [==============================] - ETA: 0s - loss: 0.0461 - accuracy: 0.9849\n",
            "Epoch 4: val_accuracy did not improve from 0.91220\n",
            "469/469 [==============================] - 494s 1s/step - loss: 0.0461 - accuracy: 0.9849 - val_loss: 4.0990 - val_accuracy: 0.6834 - lr: 0.0010\n",
            "Epoch 5/40\n",
            "469/469 [==============================] - ETA: 0s - loss: 0.0365 - accuracy: 0.9879\n",
            "Epoch 5: val_accuracy did not improve from 0.91220\n",
            "469/469 [==============================] - 510s 1s/step - loss: 0.0365 - accuracy: 0.9879 - val_loss: 0.5529 - val_accuracy: 0.9094 - lr: 0.0010\n",
            "Epoch 6/40\n",
            "469/469 [==============================] - ETA: 0s - loss: 0.0386 - accuracy: 0.9876\n",
            "Epoch 6: val_accuracy did not improve from 0.91220\n",
            "469/469 [==============================] - 485s 1s/step - loss: 0.0386 - accuracy: 0.9876 - val_loss: 29.3912 - val_accuracy: 0.4087 - lr: 0.0010\n",
            "Epoch 6: early stopping\n"
          ]
        }
      ]
    },
    {
      "cell_type": "code",
      "source": [
        "import matplotlib.pyplot as plt"
      ],
      "metadata": {
        "id": "mjm8GYD4QYqR"
      },
      "execution_count": null,
      "outputs": []
    },
    {
      "cell_type": "code",
      "source": [
        "# Mengambil Nilai Accuracy \n",
        "plt.plot(history1.history['accuracy'])\n",
        "plt.plot(history1.history['val_accuracy'])\n",
        "plt.title('Accuracy')\n",
        "plt.ylabel('accuracy')\n",
        "plt.xlabel('epoch')\n",
        "plt.legend(['train', 'val'], loc='upper left')\n",
        "plt.show()"
      ],
      "metadata": {
        "colab": {
          "base_uri": "https://localhost:8080/",
          "height": 295
        },
        "id": "sXNdf0NczC5R",
        "outputId": "e6428aa4-cab7-432c-86df-ae2f1c8be2ce"
      },
      "execution_count": null,
      "outputs": [
        {
          "output_type": "display_data",
          "data": {
            "text/plain": [
              "<Figure size 432x288 with 1 Axes>"
            ],
            "image/png": "[encoded data removed]"
          },
          "metadata": {
            "needs_background": "light"
          }
        }
      ]
    },
    {
      "cell_type": "code",
      "source": [
        "plt.plot(history1.history['loss'])\n",
        "plt.plot(history1.history['val_loss'])\n",
        "plt.title('Loss')\n",
        "plt.ylabel('loss')\n",
        "plt.xlabel('epoch')\n",
        "plt.legend(['train', 'val'], loc='upper left')\n",
        "plt.show()"
      ],
      "metadata": {
        "colab": {
          "base_uri": "https://localhost:8080/",
          "height": 295
        },
        "id": "uThgjAm5MCui",
        "outputId": "89b69c2e-2478-4fb5-dc14-78544b8c4b7b"
      },
      "execution_count": null,
      "outputs": [
        {
          "output_type": "display_data",
          "data": {
            "text/plain": [
              "<Figure size 432x288 with 1 Axes>"
            ],
            "image/png": "[encoded data removed]"
          },
          "metadata": {
            "needs_background": "light"
          }
        }
      ]
    },
    {
      "cell_type": "code",
      "source": [
        "import warnings\n",
        "# Menghilangkan Warning\n",
        "warnings.filterwarnings('ignore')\n",
        "# Convert Model.\n",
        "converter = tf.lite.TFLiteConverter.from_keras_model(model_vanilla)\n",
        "tflite_model = converter.convert()\n",
        "# Save the model.\n",
        "with tf.io.gfile.GFile('model.tflite', 'wb') as f:\n",
        "  f.write(tflite_model)"
      ],
      "metadata": {
        "id": "x_LzsYMDMIkr"
      },
      "execution_count": null,
      "outputs": []
    }
  ]
}